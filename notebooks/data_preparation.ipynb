{
 "cells": [
  {
   "cell_type": "code",
   "execution_count": 74,
   "id": "3acb935b-c391-4a62-ae36-e1ee69064c0b",
   "metadata": {},
   "outputs": [
    {
     "name": "stdout",
     "output_type": "stream",
     "text": [
      "The sparkmagic.magics extension is already loaded. To reload it, use:\n",
      "  %reload_ext sparkmagic.magics\n"
     ]
    }
   ],
   "source": [
    "#%load_ext sparkmagic.magics\n",
    "%load_ext sparkmagic.magics"
   ]
  },
  {
   "cell_type": "markdown",
   "id": "67979d00-9e81-4b83-808b-4e818a561e4a",
   "metadata": {},
   "source": [
    "## Initialize spark session"
   ]
  },
  {
   "cell_type": "code",
   "execution_count": 2,
   "id": "c0f1f4a5-7721-4124-a5ca-e6c70c6ff637",
   "metadata": {},
   "outputs": [],
   "source": [
    "import os\n",
    "from IPython import get_ipython\n",
    "\n",
    "username = os.environ['RENKU_USERNAME']\n",
    "server = \"http://iccluster029.iccluster.epfl.ch:8998\"\n",
    "\n",
    "get_ipython().run_cell_magic(\n",
    "    'spark',\n",
    "    line='config', \n",
    "    cell=\"\"\"{{ \"name\": \"{0}-week7\", \"executorMemory\": \"4G\", \"executorCores\": 4, \"numExecutors\": 10, \"driverMemory\": \"4G\"}}\"\"\".format(username)\n",
    ")"
   ]
  },
  {
   "cell_type": "code",
   "execution_count": 3,
   "id": "babc1a94-89b0-4388-a1c5-720eda8d3322",
   "metadata": {},
   "outputs": [
    {
     "name": "stdout",
     "output_type": "stream",
     "text": [
      "Starting Spark application\n"
     ]
    },
    {
     "name": "stderr",
     "output_type": "stream",
     "text": [
      "Warning: The Spark session does not have enough YARN resources to start. \n",
      "An error was encountered:\n",
      "Session 6993 did not start up in 60 seconds.\n"
     ]
    }
   ],
   "source": [
    "get_ipython().run_line_magic(\n",
    "    \"spark\", \"add -s {0}-week7 -l python -u {1} -k\".format(username, server)\n",
    ")"
   ]
  },
  {
   "cell_type": "code",
   "execution_count": null,
   "id": "5efebaa6-edeb-4192-9aa3-3dafe4a29d5d",
   "metadata": {},
   "outputs": [],
   "source": [
    "%%spark?"
   ]
  },
  {
   "cell_type": "markdown",
   "id": "93454396-b499-47e3-9354-b31eb2ddc231",
   "metadata": {},
   "source": [
    "## Get connected to Hive"
   ]
  },
  {
   "cell_type": "code",
   "execution_count": 1,
   "id": "304daec4-eae6-4766-a9cb-36d9da66083a",
   "metadata": {},
   "outputs": [],
   "source": [
    "import os\n",
    "import pandas as pd\n",
    "import warnings\n",
    "warnings.simplefilter(action='ignore', category=UserWarning)\n",
    "\n",
    "from pyhive import hive\n",
    "\n",
    "# Set python variables from environment variables\n",
    "username = os.environ['RENKU_USERNAME']\n",
    "hive_host = os.environ['HIVE_SERVER2'].split(':')[0]\n",
    "hive_port = os.environ['HIVE_SERVER2'].split(':')[1]\n",
    "\n",
    "# create connection\n",
    "conn = hive.connect(host=hive_host,\n",
    "                    port=hive_port,\n",
    "                    username=username) \n",
    "# create cursor\n",
    "cur = conn.cursor()"
   ]
  },
  {
   "cell_type": "code",
   "execution_count": 2,
   "id": "5e620d55-b169-4209-b5cf-d40dcc1ff072",
   "metadata": {},
   "outputs": [],
   "source": [
    "# create database, only run one time\n",
    "query = \"\"\"\n",
    "    drop database if exists {0}_final cascade\n",
    "\"\"\".format(username)\n",
    "cur.execute(query)\n",
    "\n",
    "query = \"\"\"\n",
    "    create database {0}_final location \"/user/{0}/hive\"\n",
    "\"\"\".format(username)\n",
    "cur.execute(query)\n",
    "\n",
    "query = \"\"\"\n",
    "    use {0}\n",
    "\"\"\".format(username)\n",
    "cur.execute(query)"
   ]
  },
  {
   "cell_type": "code",
   "execution_count": 45,
   "id": "0f904a8f-9576-49b3-b1ed-b7333d6b7678",
   "metadata": {},
   "outputs": [],
   "source": [
    "# create table from allstops data\n",
    "query = \"\"\"\n",
    "    drop table if exists {0}_final.allstop\n",
    "\"\"\".format(username)\n",
    "cur.execute(query)\n",
    "\n",
    "query = \"\"\"\n",
    "    create external table {0}_final.allstop(\n",
    "        STOP_ID        string,\n",
    "        STOP_NAME      string,\n",
    "        STOP_LAT       double,\n",
    "        STOP_LON       double,\n",
    "        LOCATION_TYPE  string,\n",
    "        PARENT_STATION string\n",
    "    )\n",
    "    stored as orc\n",
    "    location '/data/sbb/orc/allstops'\n",
    "    tblproperties ('orc.compress'='SNAPPY','immutable'='true')\n",
    "\"\"\".format(username)\n",
    "cur.execute(query)"
   ]
  },
  {
   "cell_type": "code",
   "execution_count": 35,
   "id": "5cff42da-6a8b-4207-9136-f092321782ad",
   "metadata": {},
   "outputs": [
    {
     "data": {
      "text/plain": [
       "[('stop_id', 'string', ''),\n",
       " ('stop_name', 'string', ''),\n",
       " ('stop_lat', 'double', ''),\n",
       " ('stop_lon', 'double', ''),\n",
       " ('location_type', 'string', ''),\n",
       " ('parent_station', 'string', '')]"
      ]
     },
     "execution_count": 35,
     "metadata": {},
     "output_type": "execute_result"
    }
   ],
   "source": [
    "# verify schema\n",
    "cur.execute(\"DESCRIBE {0}_final.allstop\".format(username))\n",
    "cur.fetchall()"
   ]
  },
  {
   "cell_type": "code",
   "execution_count": 49,
   "id": "edd994ea-f73d-4b27-85c8-3a8c9212afac",
   "metadata": {},
   "outputs": [],
   "source": [
    "query = \"\"\"\n",
    "    select * from {0}_final.allstop\n",
    "\"\"\".format(username)"
   ]
  },
  {
   "cell_type": "code",
   "execution_count": 52,
   "id": "1d900fb7-0a34-42b7-ae6d-b4bef5037415",
   "metadata": {},
   "outputs": [],
   "source": [
    "df = pd.read_sql(query, conn)\n",
    "df.columns = ['stop_id','stop_name', 'stop_lat', 'stop_lon', 'location_type', 'parent_station']"
   ]
  },
  {
   "cell_type": "code",
   "execution_count": 53,
   "id": "9af7e322-b1f0-4053-ad93-8314b3ca9085",
   "metadata": {},
   "outputs": [
    {
     "data": {
      "text/html": [
       "<div>\n",
       "<style scoped>\n",
       "    .dataframe tbody tr th:only-of-type {\n",
       "        vertical-align: middle;\n",
       "    }\n",
       "\n",
       "    .dataframe tbody tr th {\n",
       "        vertical-align: top;\n",
       "    }\n",
       "\n",
       "    .dataframe thead th {\n",
       "        text-align: right;\n",
       "    }\n",
       "</style>\n",
       "<table border=\"1\" class=\"dataframe\">\n",
       "  <thead>\n",
       "    <tr style=\"text-align: right;\">\n",
       "      <th></th>\n",
       "      <th>stop_id</th>\n",
       "      <th>stop_name</th>\n",
       "      <th>stop_lat</th>\n",
       "      <th>stop_lon</th>\n",
       "      <th>location_type</th>\n",
       "      <th>parent_station</th>\n",
       "    </tr>\n",
       "  </thead>\n",
       "  <tbody>\n",
       "    <tr>\n",
       "      <th>0</th>\n",
       "      <td>1100008</td>\n",
       "      <td>Zell (Wiesental), Wilder Mann</td>\n",
       "      <td>47.710084</td>\n",
       "      <td>7.859648</td>\n",
       "      <td></td>\n",
       "      <td></td>\n",
       "    </tr>\n",
       "    <tr>\n",
       "      <th>1</th>\n",
       "      <td>1100009</td>\n",
       "      <td>Zell (Wiesental), Grönland</td>\n",
       "      <td>47.713191</td>\n",
       "      <td>7.862909</td>\n",
       "      <td></td>\n",
       "      <td></td>\n",
       "    </tr>\n",
       "    <tr>\n",
       "      <th>2</th>\n",
       "      <td>1100010</td>\n",
       "      <td>Atzenbach</td>\n",
       "      <td>47.714618</td>\n",
       "      <td>7.872350</td>\n",
       "      <td></td>\n",
       "      <td></td>\n",
       "    </tr>\n",
       "    <tr>\n",
       "      <th>3</th>\n",
       "      <td>1100011</td>\n",
       "      <td>Mambach, Brücke</td>\n",
       "      <td>47.728209</td>\n",
       "      <td>7.877470</td>\n",
       "      <td></td>\n",
       "      <td></td>\n",
       "    </tr>\n",
       "    <tr>\n",
       "      <th>4</th>\n",
       "      <td>1100012</td>\n",
       "      <td>Mambach, Mühlschau</td>\n",
       "      <td>47.734082</td>\n",
       "      <td>7.881387</td>\n",
       "      <td></td>\n",
       "      <td></td>\n",
       "    </tr>\n",
       "  </tbody>\n",
       "</table>\n",
       "</div>"
      ],
      "text/plain": [
       "   stop_id                      stop_name   stop_lat  stop_lon location_type  \\\n",
       "0  1100008  Zell (Wiesental), Wilder Mann  47.710084  7.859648                 \n",
       "1  1100009     Zell (Wiesental), Grönland  47.713191  7.862909                 \n",
       "2  1100010                      Atzenbach  47.714618  7.872350                 \n",
       "3  1100011                Mambach, Brücke  47.728209  7.877470                 \n",
       "4  1100012             Mambach, Mühlschau  47.734082  7.881387                 \n",
       "\n",
       "  parent_station  \n",
       "0                 \n",
       "1                 \n",
       "2                 \n",
       "3                 \n",
       "4                 "
      ]
     },
     "execution_count": 53,
     "metadata": {},
     "output_type": "execute_result"
    }
   ],
   "source": [
    "df.head()"
   ]
  },
  {
   "cell_type": "code",
   "execution_count": 58,
   "id": "f90c13fe-516b-4b87-b614-25cf42318fc6",
   "metadata": {},
   "outputs": [],
   "source": [
    "# Note: copied from https://stackoverflow.com/questions/19412462/getting-distance-between-two-points-based-on-latitude-longitude\n",
    "\n",
    "from math import sin, cos, sqrt, atan2, radians\n",
    "\n",
    "def dist(lat1, lon1, lat2, lon2):\n",
    "    '''\n",
    "    Calculate distance based on coordinates\n",
    "    '''\n",
    "    \n",
    "    R = 6373.0\n",
    "    \n",
    "    lat1 = radians(lat1)\n",
    "    lon1 = radians(lon1)\n",
    "    lat2 = radians(lat2)\n",
    "    lon2 = radians(lon2)\n",
    "    \n",
    "    dlon = lon2 - lon1\n",
    "    dlat = lat2 - lat1\n",
    "\n",
    "    a = sin(dlat / 2)**2 + cos(lat1) * cos(lat2) * sin(dlon / 2)**2\n",
    "    c = 2 * atan2(sqrt(a), sqrt(1 - a))\n",
    "\n",
    "    return R * c"
   ]
  },
  {
   "cell_type": "code",
   "execution_count": 54,
   "id": "25c01733-915b-4817-ad00-348e1876416b",
   "metadata": {},
   "outputs": [],
   "source": [
    "# filter stations\n",
    "zurich_hb = (47.3781762039461, 8.54021154209037)\n",
    "df = df[df.apply(lambda s: dist(s['stop_lat'], s['stop_lon'], *zurich_hb) < 15, axis = 1)]"
   ]
  },
  {
   "cell_type": "code",
   "execution_count": 55,
   "id": "62ac49f0-31d2-4e0e-a7f1-cf6be4d0c0e5",
   "metadata": {},
   "outputs": [
    {
     "data": {
      "text/html": [
       "<div>\n",
       "<style scoped>\n",
       "    .dataframe tbody tr th:only-of-type {\n",
       "        vertical-align: middle;\n",
       "    }\n",
       "\n",
       "    .dataframe tbody tr th {\n",
       "        vertical-align: top;\n",
       "    }\n",
       "\n",
       "    .dataframe thead th {\n",
       "        text-align: right;\n",
       "    }\n",
       "</style>\n",
       "<table border=\"1\" class=\"dataframe\">\n",
       "  <thead>\n",
       "    <tr style=\"text-align: right;\">\n",
       "      <th></th>\n",
       "      <th>stop_id</th>\n",
       "      <th>stop_name</th>\n",
       "      <th>stop_lat</th>\n",
       "      <th>stop_lon</th>\n",
       "      <th>location_type</th>\n",
       "      <th>parent_station</th>\n",
       "    </tr>\n",
       "  </thead>\n",
       "  <tbody>\n",
       "    <tr>\n",
       "      <th>7895</th>\n",
       "      <td>176</td>\n",
       "      <td>Zimmerberg-Basistunnel</td>\n",
       "      <td>47.351678</td>\n",
       "      <td>8.521958</td>\n",
       "      <td></td>\n",
       "      <td></td>\n",
       "    </tr>\n",
       "    <tr>\n",
       "      <th>10877</th>\n",
       "      <td>8500926</td>\n",
       "      <td>Oetwil a.d.L., Schweizäcker</td>\n",
       "      <td>47.423627</td>\n",
       "      <td>8.403183</td>\n",
       "      <td></td>\n",
       "      <td></td>\n",
       "    </tr>\n",
       "    <tr>\n",
       "      <th>12362</th>\n",
       "      <td>8502075</td>\n",
       "      <td>Zürich Flughafen, Carterminal</td>\n",
       "      <td>47.451024</td>\n",
       "      <td>8.563729</td>\n",
       "      <td></td>\n",
       "      <td></td>\n",
       "    </tr>\n",
       "    <tr>\n",
       "      <th>12533</th>\n",
       "      <td>8502186</td>\n",
       "      <td>Dietikon Stoffelbach</td>\n",
       "      <td>47.393327</td>\n",
       "      <td>8.398960</td>\n",
       "      <td></td>\n",
       "      <td>Parent8502186</td>\n",
       "    </tr>\n",
       "    <tr>\n",
       "      <th>12534</th>\n",
       "      <td>8502186:0</td>\n",
       "      <td>Dietikon Stoffelbach</td>\n",
       "      <td>47.393400</td>\n",
       "      <td>8.398942</td>\n",
       "      <td></td>\n",
       "      <td>Parent8502186</td>\n",
       "    </tr>\n",
       "    <tr>\n",
       "      <th>...</th>\n",
       "      <td>...</td>\n",
       "      <td>...</td>\n",
       "      <td>...</td>\n",
       "      <td>...</td>\n",
       "      <td>...</td>\n",
       "      <td>...</td>\n",
       "    </tr>\n",
       "    <tr>\n",
       "      <th>46613</th>\n",
       "      <td>Parent8587020</td>\n",
       "      <td>Bahnhof</td>\n",
       "      <td>47.405834</td>\n",
       "      <td>8.404521</td>\n",
       "      <td>1</td>\n",
       "      <td></td>\n",
       "    </tr>\n",
       "    <tr>\n",
       "      <th>46621</th>\n",
       "      <td>Parent8587651</td>\n",
       "      <td>Glatt (Bus)</td>\n",
       "      <td>47.409209</td>\n",
       "      <td>8.595548</td>\n",
       "      <td>1</td>\n",
       "      <td></td>\n",
       "    </tr>\n",
       "    <tr>\n",
       "      <th>46652</th>\n",
       "      <td>Parent8590279</td>\n",
       "      <td>Shopping Center</td>\n",
       "      <td>47.420448</td>\n",
       "      <td>8.368517</td>\n",
       "      <td>1</td>\n",
       "      <td></td>\n",
       "    </tr>\n",
       "    <tr>\n",
       "      <th>46658</th>\n",
       "      <td>Parent8590464</td>\n",
       "      <td>Bahnhof</td>\n",
       "      <td>47.311781</td>\n",
       "      <td>8.524311</td>\n",
       "      <td>1</td>\n",
       "      <td></td>\n",
       "    </tr>\n",
       "    <tr>\n",
       "      <th>46659</th>\n",
       "      <td>Parent8591065</td>\n",
       "      <td>Bahnhof</td>\n",
       "      <td>47.397273</td>\n",
       "      <td>8.596132</td>\n",
       "      <td>1</td>\n",
       "      <td></td>\n",
       "    </tr>\n",
       "  </tbody>\n",
       "</table>\n",
       "<p>2122 rows × 6 columns</p>\n",
       "</div>"
      ],
      "text/plain": [
       "             stop_id                      stop_name   stop_lat  stop_lon  \\\n",
       "7895             176         Zimmerberg-Basistunnel  47.351678  8.521958   \n",
       "10877        8500926    Oetwil a.d.L., Schweizäcker  47.423627  8.403183   \n",
       "12362        8502075  Zürich Flughafen, Carterminal  47.451024  8.563729   \n",
       "12533        8502186           Dietikon Stoffelbach  47.393327  8.398960   \n",
       "12534      8502186:0           Dietikon Stoffelbach  47.393400  8.398942   \n",
       "...              ...                            ...        ...       ...   \n",
       "46613  Parent8587020                        Bahnhof  47.405834  8.404521   \n",
       "46621  Parent8587651                    Glatt (Bus)  47.409209  8.595548   \n",
       "46652  Parent8590279                Shopping Center  47.420448  8.368517   \n",
       "46658  Parent8590464                        Bahnhof  47.311781  8.524311   \n",
       "46659  Parent8591065                        Bahnhof  47.397273  8.596132   \n",
       "\n",
       "      location_type parent_station  \n",
       "7895                                \n",
       "10877                               \n",
       "12362                               \n",
       "12533                Parent8502186  \n",
       "12534                Parent8502186  \n",
       "...             ...            ...  \n",
       "46613             1                 \n",
       "46621             1                 \n",
       "46652             1                 \n",
       "46658             1                 \n",
       "46659             1                 \n",
       "\n",
       "[2122 rows x 6 columns]"
      ]
     },
     "execution_count": 55,
     "metadata": {},
     "output_type": "execute_result"
    }
   ],
   "source": [
    "df"
   ]
  },
  {
   "cell_type": "code",
   "execution_count": 62,
   "id": "eeb0bd99-9dac-4668-8991-10ed5dea27ab",
   "metadata": {},
   "outputs": [
    {
     "data": {
      "text/html": [
       "<div>\n",
       "<style scoped>\n",
       "    .dataframe tbody tr th:only-of-type {\n",
       "        vertical-align: middle;\n",
       "    }\n",
       "\n",
       "    .dataframe tbody tr th {\n",
       "        vertical-align: top;\n",
       "    }\n",
       "\n",
       "    .dataframe thead th {\n",
       "        text-align: right;\n",
       "    }\n",
       "</style>\n",
       "<table border=\"1\" class=\"dataframe\">\n",
       "  <thead>\n",
       "    <tr style=\"text-align: right;\">\n",
       "      <th></th>\n",
       "      <th>stop_id</th>\n",
       "      <th>stop_name</th>\n",
       "      <th>stop_lat</th>\n",
       "      <th>stop_lon</th>\n",
       "      <th>location_type</th>\n",
       "      <th>parent_station</th>\n",
       "    </tr>\n",
       "  </thead>\n",
       "  <tbody>\n",
       "    <tr>\n",
       "      <th>12533</th>\n",
       "      <td>8502186</td>\n",
       "      <td>Dietikon Stoffelbach</td>\n",
       "      <td>47.393327</td>\n",
       "      <td>8.398960</td>\n",
       "      <td></td>\n",
       "      <td>Parent8502186</td>\n",
       "    </tr>\n",
       "    <tr>\n",
       "      <th>12534</th>\n",
       "      <td>8502186:0</td>\n",
       "      <td>Dietikon Stoffelbach</td>\n",
       "      <td>47.393400</td>\n",
       "      <td>8.398942</td>\n",
       "      <td></td>\n",
       "      <td>Parent8502186</td>\n",
       "    </tr>\n",
       "    <tr>\n",
       "      <th>12535</th>\n",
       "      <td>8502186:0:1/2</td>\n",
       "      <td>Dietikon Stoffelbach</td>\n",
       "      <td>47.393400</td>\n",
       "      <td>8.398942</td>\n",
       "      <td></td>\n",
       "      <td>Parent8502186</td>\n",
       "    </tr>\n",
       "    <tr>\n",
       "      <th>12536</th>\n",
       "      <td>8502186P</td>\n",
       "      <td>Dietikon Stoffelbach</td>\n",
       "      <td>47.393400</td>\n",
       "      <td>8.398942</td>\n",
       "      <td>1</td>\n",
       "      <td></td>\n",
       "    </tr>\n",
       "    <tr>\n",
       "      <th>45662</th>\n",
       "      <td>Parent8502186</td>\n",
       "      <td>Dietikon Stoffelbach</td>\n",
       "      <td>47.393327</td>\n",
       "      <td>8.398960</td>\n",
       "      <td>1</td>\n",
       "      <td></td>\n",
       "    </tr>\n",
       "  </tbody>\n",
       "</table>\n",
       "</div>"
      ],
      "text/plain": [
       "             stop_id             stop_name   stop_lat  stop_lon location_type  \\\n",
       "12533        8502186  Dietikon Stoffelbach  47.393327  8.398960                 \n",
       "12534      8502186:0  Dietikon Stoffelbach  47.393400  8.398942                 \n",
       "12535  8502186:0:1/2  Dietikon Stoffelbach  47.393400  8.398942                 \n",
       "12536       8502186P  Dietikon Stoffelbach  47.393400  8.398942             1   \n",
       "45662  Parent8502186  Dietikon Stoffelbach  47.393327  8.398960             1   \n",
       "\n",
       "      parent_station  \n",
       "12533  Parent8502186  \n",
       "12534  Parent8502186  \n",
       "12535  Parent8502186  \n",
       "12536                 \n",
       "45662                 "
      ]
     },
     "execution_count": 62,
     "metadata": {},
     "output_type": "execute_result"
    }
   ],
   "source": [
    "df[df['stop_name'] == 'Dietikon Stoffelbach']"
   ]
  },
  {
   "cell_type": "markdown",
   "id": "39bb4adb-05bb-4cb2-a0a7-2a0c78ecf611",
   "metadata": {},
   "source": [
    "## Get connections by spark"
   ]
  },
  {
   "cell_type": "code",
   "execution_count": 4,
   "id": "3c2b15f3-c084-44a3-9716-372a7685c9bd",
   "metadata": {},
   "outputs": [
    {
     "data": {
      "application/vnd.jupyter.widget-view+json": {
       "model_id": "",
       "version_major": 2,
       "version_minor": 0
      },
      "text/plain": [
       "FloatProgress(value=0.0, bar_style='info', description='Progress:', layout=Layout(height='25px', width='50%'),…"
      ]
     },
     "metadata": {},
     "output_type": "display_data"
    }
   ],
   "source": [
    "%%spark\n",
    "# Note: copied from https://stackoverflow.com/questions/19412462/getting-distance-between-two-points-based-on-latitude-longitude\n",
    "\n",
    "from math import sin, cos, sqrt, atan2, radians\n",
    "\n",
    "def dist(lat1, lon1, lat2, lon2):\n",
    "    '''\n",
    "    Calculate distance based on coordinates\n",
    "    '''\n",
    "    \n",
    "    R = 6373.0\n",
    "    \n",
    "    lat1 = radians(lat1)\n",
    "    lon1 = radians(lon1)\n",
    "    lat2 = radians(lat2)\n",
    "    lon2 = radians(lon2)\n",
    "    \n",
    "    dlon = lon2 - lon1\n",
    "    dlat = lat2 - lat1\n",
    "\n",
    "    a = sin(dlat / 2)**2 + cos(lat1) * cos(lat2) * sin(dlon / 2)**2\n",
    "    c = 2 * atan2(sqrt(a), sqrt(1 - a))\n",
    "\n",
    "    return R * c"
   ]
  },
  {
   "cell_type": "code",
   "execution_count": 5,
   "id": "daecc826-46aa-49d7-b086-ac7cebc604ea",
   "metadata": {},
   "outputs": [
    {
     "data": {
      "application/vnd.jupyter.widget-view+json": {
       "model_id": "",
       "version_major": 2,
       "version_minor": 0
      },
      "text/plain": [
       "FloatProgress(value=0.0, bar_style='info', description='Progress:', layout=Layout(height='25px', width='50%'),…"
      ]
     },
     "metadata": {},
     "output_type": "display_data"
    }
   ],
   "source": [
    "%%spark\n",
    "from pyspark.sql.types import StructType, IntegerType, StringType, DoubleType, BooleanType\n",
    "\n",
    "\n",
    "schema = StructType() \\\n",
    "      .add(\"stop_id\",StringType(),True) \\\n",
    "      .add(\"stop_name\",StringType(),True) \\\n",
    "      .add(\"stop_lat\",DoubleType(),True) \\\n",
    "      .add(\"stop_lon\",DoubleType(),True) \\\n",
    "      .add(\"location_type\",StringType(),True) \\\n",
    "      .add(\"parent_station\",StringType(),True) \n",
    "      \n",
    "stop_info = spark.read.format(\"csv\") \\\n",
    "      .options(header = True)\\\n",
    "      .schema(schema) \\\n",
    "      .load('/data/sbb/csv/allstops')"
   ]
  },
  {
   "cell_type": "code",
   "execution_count": 105,
   "id": "1d780d55-22d7-446f-afd1-598f938e3677",
   "metadata": {},
   "outputs": [
    {
     "data": {
      "application/vnd.jupyter.widget-view+json": {
       "model_id": "",
       "version_major": 2,
       "version_minor": 0
      },
      "text/plain": [
       "FloatProgress(value=0.0, bar_style='info', description='Progress:', layout=Layout(height='25px', width='50%'),…"
      ]
     },
     "metadata": {},
     "output_type": "display_data"
    },
    {
     "name": "stdout",
     "output_type": "stream",
     "text": [
      "+-------+--------------------+----------------+----------------+-------------+--------------+\n",
      "|stop_id|           stop_name|        stop_lat|        stop_lon|location_type|parent_station|\n",
      "+-------+--------------------+----------------+----------------+-------------+--------------+\n",
      "|1100008|Zell (Wiesental),...|47.7100842702352|7.85964788274668|         null|          null|\n",
      "|1100009|Zell (Wiesental),...|47.7131911044794|7.86290876722849|         null|          null|\n",
      "|1100010|           Atzenbach|47.7146175266411| 7.8723500608659|         null|          null|\n",
      "|1100011|     Mambach, Brücke|47.7282088873189| 7.8774704579861|         null|          null|\n",
      "|1100012|  Mambach, Mühlschau|47.7340818684375| 7.8813871126254|         null|          null|\n",
      "+-------+--------------------+----------------+----------------+-------------+--------------+\n",
      "only showing top 5 rows"
     ]
    }
   ],
   "source": [
    "%%spark\n",
    "stop_info.show(5)"
   ]
  },
  {
   "cell_type": "code",
   "execution_count": 6,
   "id": "cd9ed443-0a3b-4cce-929f-0ac2f26ca8bc",
   "metadata": {},
   "outputs": [
    {
     "data": {
      "application/vnd.jupyter.widget-view+json": {
       "model_id": "",
       "version_major": 2,
       "version_minor": 0
      },
      "text/plain": [
       "FloatProgress(value=0.0, bar_style='info', description='Progress:', layout=Layout(height='25px', width='50%'),…"
      ]
     },
     "metadata": {},
     "output_type": "display_data"
    }
   ],
   "source": [
    "%%spark\n",
    "trip_info = spark.read.options(header = True).csv(\"/data/sbb/csv/trips/2019/05/15/trips.txt\")"
   ]
  },
  {
   "cell_type": "code",
   "execution_count": 107,
   "id": "4a0529f4-7300-4bfc-90b9-0ecb81858098",
   "metadata": {},
   "outputs": [
    {
     "data": {
      "application/vnd.jupyter.widget-view+json": {
       "model_id": "",
       "version_major": 2,
       "version_minor": 0
      },
      "text/plain": [
       "FloatProgress(value=0.0, bar_style='info', description='Progress:', layout=Layout(height='25px', width='50%'),…"
      ]
     },
     "metadata": {},
     "output_type": "display_data"
    },
    {
     "name": "stdout",
     "output_type": "stream",
     "text": [
      "+-----------+----------+--------------------+------------------+---------------+------------+\n",
      "|   route_id|service_id|             trip_id|     trip_headsign|trip_short_name|direction_id|\n",
      "+-----------+----------+--------------------+------------------+---------------+------------+\n",
      "|1-1-C-j19-1|  TA+b0001|5.TA.1-1-C-j19-1.3.R|Zofingen, Altachen|            108|           1|\n",
      "|1-1-C-j19-1|  TA+b0001|7.TA.1-1-C-j19-1.3.R|Zofingen, Altachen|            112|           1|\n",
      "|1-1-C-j19-1|  TA+b0001|9.TA.1-1-C-j19-1.3.R|Zofingen, Altachen|            116|           1|\n",
      "|1-1-C-j19-1|  TA+b0001|11.TA.1-1-C-j19-1...|Zofingen, Altachen|            120|           1|\n",
      "|1-1-C-j19-1|  TA+b0001|13.TA.1-1-C-j19-1...|Zofingen, Altachen|            124|           1|\n",
      "+-----------+----------+--------------------+------------------+---------------+------------+\n",
      "only showing top 5 rows"
     ]
    }
   ],
   "source": [
    "%%spark\n",
    "trip_info.show(5)"
   ]
  },
  {
   "cell_type": "code",
   "execution_count": 7,
   "id": "3e2d9124-79c0-4dd3-9185-3c76aca35b02",
   "metadata": {},
   "outputs": [
    {
     "data": {
      "application/vnd.jupyter.widget-view+json": {
       "model_id": "",
       "version_major": 2,
       "version_minor": 0
      },
      "text/plain": [
       "FloatProgress(value=0.0, bar_style='info', description='Progress:', layout=Layout(height='25px', width='50%'),…"
      ]
     },
     "metadata": {},
     "output_type": "display_data"
    }
   ],
   "source": [
    "%%spark\n",
    "\n",
    "schema = StructType() \\\n",
    "      .add(\"trip_id\",StringType(),True) \\\n",
    "      .add(\"arrival_time\",StringType(),True) \\\n",
    "      .add(\"depearture_time\",StringType(),True) \\\n",
    "      .add(\"stop_id\",StringType(),True) \\\n",
    "      .add(\"stop_sequence\",IntegerType(),True) \\\n",
    "      .add(\"pickup_type\",StringType(),True)\\\n",
    "      .add(\"drop_off_type\",StringType(),True)\n",
    "      \n",
    "stops = spark.read.format(\"csv\") \\\n",
    "      .options(header = True)\\\n",
    "      .schema(schema) \\\n",
    "      .load('/data/sbb/csv/stop_times/2019/05/15/stop_times.txt')"
   ]
  },
  {
   "cell_type": "code",
   "execution_count": 109,
   "id": "dc5672ba-8709-43a4-8e02-87ed49d4019c",
   "metadata": {},
   "outputs": [
    {
     "data": {
      "application/vnd.jupyter.widget-view+json": {
       "model_id": "",
       "version_major": 2,
       "version_minor": 0
      },
      "text/plain": [
       "FloatProgress(value=0.0, bar_style='info', description='Progress:', layout=Layout(height='25px', width='50%'),…"
      ]
     },
     "metadata": {},
     "output_type": "display_data"
    },
    {
     "name": "stdout",
     "output_type": "stream",
     "text": [
      "+--------------------+------------+---------------+-----------+-------------+-----------+-------------+\n",
      "|             trip_id|arrival_time|depearture_time|    stop_id|stop_sequence|pickup_type|drop_off_type|\n",
      "+--------------------+------------+---------------+-----------+-------------+-----------+-------------+\n",
      "|1.TA.1-1-B-j19-1.1.R|    04:20:00|       04:20:00|8500010:0:3|            1|          0|            0|\n",
      "|1.TA.1-1-B-j19-1.1.R|    04:24:00|       04:24:00|8500020:0:3|            2|          0|            0|\n",
      "|1.TA.1-1-B-j19-1.1.R|    04:28:00|       04:28:00|8500021:0:5|            3|          0|            0|\n",
      "|1.TA.1-1-B-j19-1.1.R|    04:30:00|       04:30:00|8517131:0:2|            4|          0|            0|\n",
      "|1.TA.1-1-B-j19-1.1.R|    04:32:00|       04:32:00|8500300:0:5|            5|          0|            0|\n",
      "+--------------------+------------+---------------+-----------+-------------+-----------+-------------+\n",
      "only showing top 5 rows"
     ]
    }
   ],
   "source": [
    "%%spark\n",
    "stops.show(5)"
   ]
  },
  {
   "cell_type": "code",
   "execution_count": 8,
   "id": "8fbf8967-fc60-4c8e-9226-eb313e8f025a",
   "metadata": {},
   "outputs": [
    {
     "data": {
      "application/vnd.jupyter.widget-view+json": {
       "model_id": "",
       "version_major": 2,
       "version_minor": 0
      },
      "text/plain": [
       "FloatProgress(value=0.0, bar_style='info', description='Progress:', layout=Layout(height='25px', width='50%'),…"
      ]
     },
     "metadata": {},
     "output_type": "display_data"
    }
   ],
   "source": [
    "%%spark\n",
    "from pyspark.sql import functions as F\n",
    "from pyspark.sql.functions import col\n",
    "\n",
    "# filter stops by distance\n",
    "zurich_hb = (47.3781762039461, 8.54021154209037)\n",
    "dist_udf = F.udf(lambda lat,lon: dist(lat, lon, *zurich_hb) < 15, BooleanType())\n",
    "\n",
    "stops_15 = stops.join(stop_info,['stop_id'] , how = 'left')\n",
    "stops_15 = stops_15.select('trip_id','arrival_time','depearture_time','stop_id','stop_sequence','stop_lat','stop_lon')\n",
    "stops_15 = stops_15.dropna()\n",
    "stops_15 = stops_15.filter(dist_udf('stop_lat', 'stop_lon'))"
   ]
  },
  {
   "cell_type": "code",
   "execution_count": 12,
   "id": "6532f3f5-5f12-412a-be1d-b492a7733e02",
   "metadata": {},
   "outputs": [
    {
     "data": {
      "application/vnd.jupyter.widget-view+json": {
       "model_id": "",
       "version_major": 2,
       "version_minor": 0
      },
      "text/plain": [
       "FloatProgress(value=0.0, bar_style='info', description='Progress:', layout=Layout(height='25px', width='50%'),…"
      ]
     },
     "metadata": {},
     "output_type": "display_data"
    },
    {
     "name": "stdout",
     "output_type": "stream",
     "text": [
      "root\n",
      " |-- trip_id: string (nullable = true)\n",
      " |-- arrival_time: string (nullable = true)\n",
      " |-- depearture_time: string (nullable = true)\n",
      " |-- stop_id: string (nullable = true)\n",
      " |-- stop_sequence: integer (nullable = true)\n",
      " |-- stop_lat: double (nullable = true)\n",
      " |-- stop_lon: double (nullable = true)"
     ]
    }
   ],
   "source": [
    "%%spark\n",
    "stops_15.printSchema()"
   ]
  },
  {
   "cell_type": "code",
   "execution_count": 48,
   "id": "f6df78af-5cc9-4cc7-91c6-b53521a3a9c4",
   "metadata": {},
   "outputs": [
    {
     "data": {
      "application/vnd.jupyter.widget-view+json": {
       "model_id": "",
       "version_major": 2,
       "version_minor": 0
      },
      "text/plain": [
       "FloatProgress(value=0.0, bar_style='info', description='Progress:', layout=Layout(height='25px', width='50%'),…"
      ]
     },
     "metadata": {},
     "output_type": "display_data"
    },
    {
     "name": "stdout",
     "output_type": "stream",
     "text": [
      "+--------------------+------------+---------------+---------------+-------------+----------------+----------------+\n",
      "|             trip_id|arrival_time|depearture_time|        stop_id|stop_sequence|        stop_lat|        stop_lon|\n",
      "+--------------------+------------+---------------+---------------+-------------+----------------+----------------+\n",
      "|5.TA.1-1-A-j19-1.3.H|    02:42:00|       02:42:00|    8503305:0:3|            2|47.4258149579094|8.68668184918644|\n",
      "|5.TA.1-1-A-j19-1.3.H|    02:46:00|       02:46:00|    8503306:0:3|            3|47.4201990480087|8.61927227025673|\n",
      "|5.TA.1-1-A-j19-1.3.H|    02:50:00|       02:50:00|    8503147:0:1|            4|47.3972125517017|8.59614065168743|\n",
      "|5.TA.1-1-A-j19-1.3.H|    02:55:00|       02:55:00|    8503003:0:1|            5|47.3666111556789|8.54848502585826|\n",
      "|5.TA.1-1-A-j19-1.3.H|    02:58:00|       03:00:00|8503000:0:41/42|            6|47.3781762039461|8.54021154209037|\n",
      "|5.TA.1-1-A-j19-1.3.H|    03:02:00|       03:02:00|    8503020:0:4|            7| 47.385195516951|8.51712483928528|\n",
      "|5.TA.1-1-A-j19-1.3.H|    03:05:00|       03:06:00|    8503001:0:2|            8|47.3914841248792|8.48896265512422|\n",
      "|5.TA.1-1-A-j19-1.3.H|    03:08:00|       03:08:00|    8503509:0:3|            9|47.3991766141354| 8.4472448933239|\n",
      "|5.TA.1-1-A-j19-1.3.H|    03:10:00|       03:10:00|    8503512:0:1|           10|47.3988786651024|8.42043916524204|\n",
      "|5.TA.1-1-A-j19-1.3.H|    03:14:00|       03:15:00|    8503508:0:3|           11|47.4057857849266|8.40498814235303|\n",
      "+--------------------+------------+---------------+---------------+-------------+----------------+----------------+\n",
      "only showing top 10 rows"
     ]
    }
   ],
   "source": [
    "%%spark\n",
    "stops_15.show(10)"
   ]
  },
  {
   "cell_type": "code",
   "execution_count": 9,
   "id": "4f6df405-ca47-40dc-8463-140529f0f7ac",
   "metadata": {},
   "outputs": [
    {
     "data": {
      "application/vnd.jupyter.widget-view+json": {
       "model_id": "",
       "version_major": 2,
       "version_minor": 0
      },
      "text/plain": [
       "FloatProgress(value=0.0, bar_style='info', description='Progress:', layout=Layout(height='25px', width='50%'),…"
      ]
     },
     "metadata": {},
     "output_type": "display_data"
    }
   ],
   "source": [
    "%%spark\n",
    "# get depearture and arrival timetable\n",
    "depearture = stops_15.select('trip_id','depearture_time','stop_id','stop_sequence')\n",
    "depearture = depearture.withColumn(\"stop_sequence_next\",depearture.stop_sequence+1)\n",
    "depearture = depearture.select('trip_id','depearture_time','stop_id','stop_sequence_next')\\\n",
    "                       .withColumnRenamed(\"stop_sequence_next\",\"stop_sequence\")\\\n",
    "                       .withColumnRenamed(\"stop_id\",\"depearture_stop\")\n",
    "\n",
    "arrival = stops_15.select('trip_id','arrival_time','stop_id','stop_sequence')\\\n",
    "                 .withColumnRenamed('stop_id','arrival_stop')"
   ]
  },
  {
   "cell_type": "code",
   "execution_count": 28,
   "id": "6f548a13-7888-436f-af4d-0af5ea73f0c5",
   "metadata": {},
   "outputs": [
    {
     "data": {
      "application/vnd.jupyter.widget-view+json": {
       "model_id": "",
       "version_major": 2,
       "version_minor": 0
      },
      "text/plain": [
       "FloatProgress(value=0.0, bar_style='info', description='Progress:', layout=Layout(height='25px', width='50%'),…"
      ]
     },
     "metadata": {},
     "output_type": "display_data"
    },
    {
     "name": "stdout",
     "output_type": "stream",
     "text": [
      "+--------------------+---------------+---------------+-------------+\n",
      "|             trip_id|depearture_time|depearture_stop|stop_sequence|\n",
      "+--------------------+---------------+---------------+-------------+\n",
      "|5.TA.1-1-A-j19-1.3.H|       02:42:00|    8503305:0:3|            3|\n",
      "|5.TA.1-1-A-j19-1.3.H|       02:46:00|    8503306:0:3|            4|\n",
      "|5.TA.1-1-A-j19-1.3.H|       02:50:00|    8503147:0:1|            5|\n",
      "|5.TA.1-1-A-j19-1.3.H|       02:55:00|    8503003:0:1|            6|\n",
      "|5.TA.1-1-A-j19-1.3.H|       03:00:00|8503000:0:41/42|            7|\n",
      "+--------------------+---------------+---------------+-------------+\n",
      "only showing top 5 rows"
     ]
    }
   ],
   "source": [
    "%%spark\n",
    "depearture.show(5)"
   ]
  },
  {
   "cell_type": "code",
   "execution_count": 29,
   "id": "01068f98-26e0-40d5-bb86-37df91cf988b",
   "metadata": {},
   "outputs": [
    {
     "data": {
      "application/vnd.jupyter.widget-view+json": {
       "model_id": "",
       "version_major": 2,
       "version_minor": 0
      },
      "text/plain": [
       "FloatProgress(value=0.0, bar_style='info', description='Progress:', layout=Layout(height='25px', width='50%'),…"
      ]
     },
     "metadata": {},
     "output_type": "display_data"
    },
    {
     "name": "stdout",
     "output_type": "stream",
     "text": [
      "+--------------------+------------+---------------+-------------+\n",
      "|             trip_id|arrival_time|   arrival_stop|stop_sequence|\n",
      "+--------------------+------------+---------------+-------------+\n",
      "|5.TA.1-1-A-j19-1.3.H|    02:42:00|    8503305:0:3|            2|\n",
      "|5.TA.1-1-A-j19-1.3.H|    02:46:00|    8503306:0:3|            3|\n",
      "|5.TA.1-1-A-j19-1.3.H|    02:50:00|    8503147:0:1|            4|\n",
      "|5.TA.1-1-A-j19-1.3.H|    02:55:00|    8503003:0:1|            5|\n",
      "|5.TA.1-1-A-j19-1.3.H|    02:58:00|8503000:0:41/42|            6|\n",
      "+--------------------+------------+---------------+-------------+\n",
      "only showing top 5 rows"
     ]
    }
   ],
   "source": [
    "%%spark\n",
    "arrival.show(5)"
   ]
  },
  {
   "cell_type": "code",
   "execution_count": 10,
   "id": "321150db-4bda-4986-b461-3f131749b45c",
   "metadata": {},
   "outputs": [
    {
     "data": {
      "application/vnd.jupyter.widget-view+json": {
       "model_id": "",
       "version_major": 2,
       "version_minor": 0
      },
      "text/plain": [
       "FloatProgress(value=0.0, bar_style='info', description='Progress:', layout=Layout(height='25px', width='50%'),…"
      ]
     },
     "metadata": {},
     "output_type": "display_data"
    }
   ],
   "source": [
    "%%spark\n",
    "# get connection based on depearture and arrival timetable\n",
    "connections = depearture.join(arrival,['trip_id','stop_sequence'], how = 'left')\n",
    "connections = connections.dropna()"
   ]
  },
  {
   "cell_type": "code",
   "execution_count": 12,
   "id": "6d40c7a2-33eb-432c-a27b-9f2187921f07",
   "metadata": {},
   "outputs": [
    {
     "data": {
      "application/vnd.jupyter.widget-view+json": {
       "model_id": "",
       "version_major": 2,
       "version_minor": 0
      },
      "text/plain": [
       "FloatProgress(value=0.0, bar_style='info', description='Progress:', layout=Layout(height='25px', width='50%'),…"
      ]
     },
     "metadata": {},
     "output_type": "display_data"
    }
   ],
   "source": [
    "%%spark\n",
    "# get route_id for each connection\n",
    "connections = connections.join(trip_info, ['trip_id'], how = 'left')"
   ]
  },
  {
   "cell_type": "code",
   "execution_count": 13,
   "id": "5d043501-cdfc-4e72-90f2-0939e20fcecd",
   "metadata": {},
   "outputs": [
    {
     "data": {
      "application/vnd.jupyter.widget-view+json": {
       "model_id": "",
       "version_major": 2,
       "version_minor": 0
      },
      "text/plain": [
       "FloatProgress(value=0.0, bar_style='info', description='Progress:', layout=Layout(height='25px', width='50%'),…"
      ]
     },
     "metadata": {},
     "output_type": "display_data"
    }
   ],
   "source": [
    "%%spark\n",
    "# selet revelent columns\n",
    "connections = connections.select('depearture_time','depearture_stop','arrival_time','arrival_stop','trip_id','route_id')"
   ]
  },
  {
   "cell_type": "code",
   "execution_count": 116,
   "id": "3ff70c43-717d-42d8-888a-651910782b70",
   "metadata": {},
   "outputs": [
    {
     "data": {
      "application/vnd.jupyter.widget-view+json": {
       "model_id": "",
       "version_major": 2,
       "version_minor": 0
      },
      "text/plain": [
       "FloatProgress(value=0.0, bar_style='info', description='Progress:', layout=Layout(height='25px', width='50%'),…"
      ]
     },
     "metadata": {},
     "output_type": "display_data"
    },
    {
     "name": "stdout",
     "output_type": "stream",
     "text": [
      "+---------------+---------------+------------+------------+--------------------+-----------+\n",
      "|depearture_time|depearture_stop|arrival_time|arrival_stop|             trip_id|   route_id|\n",
      "+---------------+---------------+------------+------------+--------------------+-----------+\n",
      "|       28:50:00|        8591429|    28:50:00|     8591180|1.TA.26-18-j19-1.1.H|26-18-j19-1|\n",
      "|       28:45:00|        8591315|    28:46:00|     8591142|1.TA.26-18-j19-1.1.H|26-18-j19-1|\n",
      "|       28:50:00|        8591180|    28:52:00|     8530812|1.TA.26-18-j19-1.1.H|26-18-j19-1|\n",
      "|       28:52:00|        8530812|    28:53:00|     8591364|1.TA.26-18-j19-1.1.H|26-18-j19-1|\n",
      "|       28:46:00|        8591142|    28:47:00|     8530811|1.TA.26-18-j19-1.1.H|26-18-j19-1|\n",
      "+---------------+---------------+------------+------------+--------------------+-----------+\n",
      "only showing top 5 rows"
     ]
    }
   ],
   "source": [
    "%%spark\n",
    "connections.show(5)"
   ]
  },
  {
   "cell_type": "code",
   "execution_count": 122,
   "id": "2727ac6a-e080-44c9-b934-2208d402b45c",
   "metadata": {},
   "outputs": [
    {
     "data": {
      "application/vnd.jupyter.widget-view+json": {
       "model_id": "",
       "version_major": 2,
       "version_minor": 0
      },
      "text/plain": [
       "FloatProgress(value=0.0, bar_style='info', description='Progress:', layout=Layout(height='25px', width='50%'),…"
      ]
     },
     "metadata": {},
     "output_type": "display_data"
    }
   ],
   "source": [
    "%%spark\n",
    "# select connections within typical working hours\n",
    "select_connections = connections.filter(\"depearture_time >= '07:00:00' and depearture_time <= '22:00:00'\")\n",
    "# sort dataframe\n",
    "select_connections.sort(select_connections.depearture_time.desc())"
   ]
  },
  {
   "cell_type": "code",
   "execution_count": null,
   "id": "8673b29c-a69b-4e22-98ab-19180611ccc3",
   "metadata": {},
   "outputs": [],
   "source": [
    "%%spark\n",
    "# save results to hdfs\n",
    "select_connections.write.format(\"csv\").save(\"hdfs:///group/Big-data-projects/connections.csv\")"
   ]
  },
  {
   "cell_type": "markdown",
   "id": "0b2cd228-a10b-4e55-9a0c-21cb5ce0c82b",
   "metadata": {},
   "source": [
    "## Generate Transfer station list"
   ]
  },
  {
   "cell_type": "code",
   "execution_count": 105,
   "id": "a107317b-c8eb-4450-9f47-70bb2eee2d14",
   "metadata": {},
   "outputs": [
    {
     "data": {
      "text/html": [
       "<div>\n",
       "<style scoped>\n",
       "    .dataframe tbody tr th:only-of-type {\n",
       "        vertical-align: middle;\n",
       "    }\n",
       "\n",
       "    .dataframe tbody tr th {\n",
       "        vertical-align: top;\n",
       "    }\n",
       "\n",
       "    .dataframe thead th {\n",
       "        text-align: right;\n",
       "    }\n",
       "</style>\n",
       "<table border=\"1\" class=\"dataframe\">\n",
       "  <thead>\n",
       "    <tr style=\"text-align: right;\">\n",
       "      <th></th>\n",
       "      <th>stop_id</th>\n",
       "      <th>stop_name</th>\n",
       "      <th>stop_lat</th>\n",
       "      <th>stop_lon</th>\n",
       "      <th>location_type</th>\n",
       "      <th>parent_station</th>\n",
       "    </tr>\n",
       "  </thead>\n",
       "  <tbody>\n",
       "    <tr>\n",
       "      <th>2395</th>\n",
       "      <td>8500926</td>\n",
       "      <td>Oetwil a.d.L., Schweizäcker</td>\n",
       "      <td>47.423627</td>\n",
       "      <td>8.403183</td>\n",
       "      <td>NaN</td>\n",
       "      <td>NaN</td>\n",
       "    </tr>\n",
       "    <tr>\n",
       "      <th>3793</th>\n",
       "      <td>8502186</td>\n",
       "      <td>Dietikon Stoffelbach</td>\n",
       "      <td>47.393406</td>\n",
       "      <td>8.398942</td>\n",
       "      <td>NaN</td>\n",
       "      <td>8502186P</td>\n",
       "    </tr>\n",
       "    <tr>\n",
       "      <th>3797</th>\n",
       "      <td>8502187</td>\n",
       "      <td>Rudolfstetten Hofacker</td>\n",
       "      <td>47.364695</td>\n",
       "      <td>8.377095</td>\n",
       "      <td>NaN</td>\n",
       "      <td>8502187P</td>\n",
       "    </tr>\n",
       "    <tr>\n",
       "      <th>3801</th>\n",
       "      <td>8502188</td>\n",
       "      <td>Zufikon Hammergut</td>\n",
       "      <td>47.355835</td>\n",
       "      <td>8.354727</td>\n",
       "      <td>NaN</td>\n",
       "      <td>8502188P</td>\n",
       "    </tr>\n",
       "    <tr>\n",
       "      <th>3870</th>\n",
       "      <td>8502208</td>\n",
       "      <td>Horgen Oberdorf</td>\n",
       "      <td>47.258748</td>\n",
       "      <td>8.589799</td>\n",
       "      <td>NaN</td>\n",
       "      <td>8502208P</td>\n",
       "    </tr>\n",
       "  </tbody>\n",
       "</table>\n",
       "</div>"
      ],
      "text/plain": [
       "      stop_id                    stop_name   stop_lat  stop_lon  \\\n",
       "2395  8500926  Oetwil a.d.L., Schweizäcker  47.423627  8.403183   \n",
       "3793  8502186         Dietikon Stoffelbach  47.393406  8.398942   \n",
       "3797  8502187       Rudolfstetten Hofacker  47.364695  8.377095   \n",
       "3801  8502188            Zufikon Hammergut  47.355835  8.354727   \n",
       "3870  8502208              Horgen Oberdorf  47.258748  8.589799   \n",
       "\n",
       "      location_type parent_station  \n",
       "2395            NaN            NaN  \n",
       "3793            NaN       8502186P  \n",
       "3797            NaN       8502187P  \n",
       "3801            NaN       8502188P  \n",
       "3870            NaN       8502208P  "
      ]
     },
     "execution_count": 105,
     "metadata": {},
     "output_type": "execute_result"
    }
   ],
   "source": [
    "stop_15.head()"
   ]
  },
  {
   "cell_type": "code",
   "execution_count": 92,
   "id": "300c5e51-f9fe-4135-a607-6e6abb7291b4",
   "metadata": {},
   "outputs": [],
   "source": [
    "# Get unique coordinate for each stop\n",
    "stop_15 = stop_15[~stop_15['stop_id'].str.contains(':')]\n",
    "stop_15['stop_id'] = stop_15['stop_id'].str[:7]\n",
    "\n",
    "stop_15 = stop_15.drop_duplicates(subset='stop_id')"
   ]
  },
  {
   "cell_type": "code",
   "execution_count": 106,
   "id": "350c9ecf-3858-475c-98c6-1c4bc24e1b71",
   "metadata": {},
   "outputs": [
    {
     "data": {
      "text/html": [
       "<div>\n",
       "<style scoped>\n",
       "    .dataframe tbody tr th:only-of-type {\n",
       "        vertical-align: middle;\n",
       "    }\n",
       "\n",
       "    .dataframe tbody tr th {\n",
       "        vertical-align: top;\n",
       "    }\n",
       "\n",
       "    .dataframe thead th {\n",
       "        text-align: right;\n",
       "    }\n",
       "</style>\n",
       "<table border=\"1\" class=\"dataframe\">\n",
       "  <thead>\n",
       "    <tr style=\"text-align: right;\">\n",
       "      <th></th>\n",
       "      <th>stop_id</th>\n",
       "      <th>stop_name</th>\n",
       "      <th>stop_lat</th>\n",
       "      <th>stop_lon</th>\n",
       "      <th>location_type</th>\n",
       "      <th>parent_station</th>\n",
       "    </tr>\n",
       "  </thead>\n",
       "  <tbody>\n",
       "    <tr>\n",
       "      <th>2395</th>\n",
       "      <td>8500926</td>\n",
       "      <td>Oetwil a.d.L., Schweizäcker</td>\n",
       "      <td>47.423627</td>\n",
       "      <td>8.403183</td>\n",
       "      <td>NaN</td>\n",
       "      <td>NaN</td>\n",
       "    </tr>\n",
       "    <tr>\n",
       "      <th>3793</th>\n",
       "      <td>8502186</td>\n",
       "      <td>Dietikon Stoffelbach</td>\n",
       "      <td>47.393406</td>\n",
       "      <td>8.398942</td>\n",
       "      <td>NaN</td>\n",
       "      <td>8502186P</td>\n",
       "    </tr>\n",
       "    <tr>\n",
       "      <th>3797</th>\n",
       "      <td>8502187</td>\n",
       "      <td>Rudolfstetten Hofacker</td>\n",
       "      <td>47.364695</td>\n",
       "      <td>8.377095</td>\n",
       "      <td>NaN</td>\n",
       "      <td>8502187P</td>\n",
       "    </tr>\n",
       "    <tr>\n",
       "      <th>3801</th>\n",
       "      <td>8502188</td>\n",
       "      <td>Zufikon Hammergut</td>\n",
       "      <td>47.355835</td>\n",
       "      <td>8.354727</td>\n",
       "      <td>NaN</td>\n",
       "      <td>8502188P</td>\n",
       "    </tr>\n",
       "    <tr>\n",
       "      <th>3870</th>\n",
       "      <td>8502208</td>\n",
       "      <td>Horgen Oberdorf</td>\n",
       "      <td>47.258748</td>\n",
       "      <td>8.589799</td>\n",
       "      <td>NaN</td>\n",
       "      <td>8502208P</td>\n",
       "    </tr>\n",
       "  </tbody>\n",
       "</table>\n",
       "</div>"
      ],
      "text/plain": [
       "      stop_id                    stop_name   stop_lat  stop_lon  \\\n",
       "2395  8500926  Oetwil a.d.L., Schweizäcker  47.423627  8.403183   \n",
       "3793  8502186         Dietikon Stoffelbach  47.393406  8.398942   \n",
       "3797  8502187       Rudolfstetten Hofacker  47.364695  8.377095   \n",
       "3801  8502188            Zufikon Hammergut  47.355835  8.354727   \n",
       "3870  8502208              Horgen Oberdorf  47.258748  8.589799   \n",
       "\n",
       "      location_type parent_station  \n",
       "2395            NaN            NaN  \n",
       "3793            NaN       8502186P  \n",
       "3797            NaN       8502187P  \n",
       "3801            NaN       8502188P  \n",
       "3870            NaN       8502208P  "
      ]
     },
     "execution_count": 106,
     "metadata": {},
     "output_type": "execute_result"
    }
   ],
   "source": [
    "stop_15.head()"
   ]
  },
  {
   "cell_type": "code",
   "execution_count": 107,
   "id": "20672bf3-e194-45d6-ad21-dbd9154cfdbe",
   "metadata": {},
   "outputs": [],
   "source": [
    "import json\n",
    "\n",
    "stop_15 = stop_15.reset_index(drop=True)\n",
    "\n",
    "i = 0\n",
    "transfer_st = {s:[] for s in stop_15['stop_id']}\n",
    "\n",
    "for i in range(len(stop_15)-1):\n",
    "    \n",
    "    lat1 = stop_15.loc[i,'stop_lat']\n",
    "    lon1 = stop_15.loc[i,'stop_lon']\n",
    "    \n",
    "    for j in range(i+1, len(stop_15)):\n",
    "\n",
    "        lat2 = stop_15.loc[j,'stop_lat']\n",
    "        lon2 = stop_15.loc[j,'stop_lon']\n",
    "        \n",
    "        # calculate distance\n",
    "        dis = dist(lat1, lon1, lat2, lon2)\n",
    "        \n",
    "        # possible to transfer by walking\n",
    "        if dis<0.5:\n",
    "            transfer_st[stop_15.loc[i,'stop_id']].append(stop_15.loc[j,'stop_id'])\n",
    "            transfer_st[stop_15.loc[j,'stop_id']].append(stop_15.loc[i,'stop_id'])"
   ]
  },
  {
   "cell_type": "code",
   "execution_count": 111,
   "id": "4cceb846-24a6-4cf6-b191-0a8e2b7b5c1b",
   "metadata": {},
   "outputs": [],
   "source": [
    "with open(\"../data/transfer_station.json\", 'w') as f:\n",
    "    json.dump(transfer_st,f)"
   ]
  },
  {
   "cell_type": "markdown",
   "id": "f2b3e94f-5242-4ef3-8db0-51bc8e671ae8",
   "metadata": {},
   "source": [
    "## Transfer station dictionary"
   ]
  },
  {
   "cell_type": "code",
   "execution_count": 119,
   "id": "3457d0a5-3164-4e89-9f3b-799052256be2",
   "metadata": {},
   "outputs": [
    {
     "data": {
      "application/vnd.jupyter.widget-view+json": {
       "model_id": "",
       "version_major": 2,
       "version_minor": 0
      },
      "text/plain": [
       "FloatProgress(value=0.0, bar_style='info', description='Progress:', layout=Layout(height='25px', width='50%'),…"
      ]
     },
     "metadata": {},
     "output_type": "display_data"
    }
   ],
   "source": [
    "%%spark\n",
    "# Note: copied from https://stackoverflow.com/questions/19412462/getting-distance-between-two-points-based-on-latitude-longitude\n",
    "\n",
    "from math import sin, cos, sqrt, atan2, radians\n",
    "\n",
    "def dist(lat1, lon1, lat2, lon2):\n",
    "    '''\n",
    "    Calculate distance based on coordinates\n",
    "    '''\n",
    "    \n",
    "    R = 6373.0\n",
    "    \n",
    "    lat1 = radians(lat1)\n",
    "    lon1 = radians(lon1)\n",
    "    lat2 = radians(lat2)\n",
    "    lon2 = radians(lon2)\n",
    "    \n",
    "    dlon = lon2 - lon1\n",
    "    dlat = lat2 - lat1\n",
    "\n",
    "    a = sin(dlat / 2)**2 + cos(lat1) * cos(lat2) * sin(dlon / 2)**2\n",
    "    c = 2 * atan2(sqrt(a), sqrt(1 - a))\n",
    "\n",
    "    return R * c"
   ]
  },
  {
   "cell_type": "code",
   "execution_count": 120,
   "id": "4f85f240-c7f4-4623-98ea-f83ac9801a99",
   "metadata": {},
   "outputs": [
    {
     "data": {
      "application/vnd.jupyter.widget-view+json": {
       "model_id": "",
       "version_major": 2,
       "version_minor": 0
      },
      "text/plain": [
       "FloatProgress(value=0.0, bar_style='info', description='Progress:', layout=Layout(height='25px', width='50%'),…"
      ]
     },
     "metadata": {},
     "output_type": "display_data"
    }
   ],
   "source": [
    "%%spark\n",
    "from pyspark.sql.types import StructType, IntegerType, StringType, DoubleType, BooleanType\n",
    "\n",
    "\n",
    "schema = StructType() \\\n",
    "      .add(\"stop_id\",StringType(),True) \\\n",
    "      .add(\"stop_name\",StringType(),True) \\\n",
    "      .add(\"stop_lat\",DoubleType(),True) \\\n",
    "      .add(\"stop_lon\",DoubleType(),True) \\\n",
    "      .add(\"location_type\",StringType(),True) \\\n",
    "      .add(\"parent_station\",StringType(),True) \n",
    "      \n",
    "stop_info = spark.read.format(\"csv\") \\\n",
    "      .options(header = True)\\\n",
    "      .schema(schema) \\\n",
    "      .load('/data/sbb/csv/allstops')"
   ]
  },
  {
   "cell_type": "code",
   "execution_count": 65,
   "id": "80a5c427-ebef-4556-a659-5a2a5d768bda",
   "metadata": {},
   "outputs": [
    {
     "data": {
      "application/vnd.jupyter.widget-view+json": {
       "model_id": "",
       "version_major": 2,
       "version_minor": 0
      },
      "text/plain": [
       "FloatProgress(value=0.0, bar_style='info', description='Progress:', layout=Layout(height='25px', width='50%'),…"
      ]
     },
     "metadata": {},
     "output_type": "display_data"
    },
    {
     "name": "stdout",
     "output_type": "stream",
     "text": [
      "+-------+--------------------+----------------+----------------+-------------+--------------+\n",
      "|stop_id|           stop_name|        stop_lat|        stop_lon|location_type|parent_station|\n",
      "+-------+--------------------+----------------+----------------+-------------+--------------+\n",
      "|1100008|Zell (Wiesental),...|47.7100842702352|7.85964788274668|         null|          null|\n",
      "|1100009|Zell (Wiesental),...|47.7131911044794|7.86290876722849|         null|          null|\n",
      "|1100010|           Atzenbach|47.7146175266411| 7.8723500608659|         null|          null|\n",
      "|1100011|     Mambach, Brücke|47.7282088873189| 7.8774704579861|         null|          null|\n",
      "|1100012|  Mambach, Mühlschau|47.7340818684375| 7.8813871126254|         null|          null|\n",
      "+-------+--------------------+----------------+----------------+-------------+--------------+\n",
      "only showing top 5 rows"
     ]
    }
   ],
   "source": [
    "%%spark\n",
    "stop_info.show(5)"
   ]
  },
  {
   "cell_type": "code",
   "execution_count": 121,
   "id": "1d09ddab-06de-4b9f-86dd-7d4f66bc0a85",
   "metadata": {},
   "outputs": [
    {
     "data": {
      "application/vnd.jupyter.widget-view+json": {
       "model_id": "",
       "version_major": 2,
       "version_minor": 0
      },
      "text/plain": [
       "FloatProgress(value=0.0, bar_style='info', description='Progress:', layout=Layout(height='25px', width='50%'),…"
      ]
     },
     "metadata": {},
     "output_type": "display_data"
    }
   ],
   "source": [
    "%%spark\n",
    "from pyspark.sql import functions as F\n",
    "from pyspark.sql.functions import col\n",
    "\n",
    "# filter by distance\n",
    "zurich_hb = (47.3781762039461, 8.54021154209037)\n",
    "dist_udf = F.udf(lambda lat,lon: dist(lat, lon, *zurich_hb) < 15, BooleanType())\n",
    "\n",
    "stop_15 = stop_info.filter(dist_udf('stop_lat', 'stop_lon'))"
   ]
  },
  {
   "cell_type": "code",
   "execution_count": 85,
   "id": "857a3667-907c-4b3c-90c2-d6a8f1ae83c2",
   "metadata": {},
   "outputs": [
    {
     "data": {
      "application/vnd.jupyter.widget-view+json": {
       "model_id": "",
       "version_major": 2,
       "version_minor": 0
      },
      "text/plain": [
       "FloatProgress(value=0.0, bar_style='info', description='Progress:', layout=Layout(height='25px', width='50%'),…"
      ]
     },
     "metadata": {},
     "output_type": "display_data"
    },
    {
     "name": "stdout",
     "output_type": "stream",
     "text": [
      "2122"
     ]
    }
   ],
   "source": [
    "%%spark\n",
    "stop_15.count()"
   ]
  },
  {
   "cell_type": "code",
   "execution_count": 38,
   "id": "cab19f47-df22-4cb5-89f6-46cc9e4627b7",
   "metadata": {},
   "outputs": [],
   "source": [
    "def process_id(stop_id):\n",
    "    '''\n",
    "    Process stop_id to only contain the main station number.\n",
    "    stop_id: possible format: 127, 127:0:1, 127P\n",
    "    return: string\n",
    "    '''\n",
    "    if ':' in stop_id:\n",
    "        return stop_id.split(\":\")[0]\n",
    "    elif stop_id[-1] == 'P':\n",
    "        return stop_id.split(\"P\")[0]\n",
    "    elif stop_id[0] == 'P':\n",
    "        return stop_id.split(\"Parent\")[1]\n",
    "    else:\n",
    "        return stop_id"
   ]
  },
  {
   "cell_type": "code",
   "execution_count": 123,
   "id": "14d817ba-d981-48ff-95e1-5960b4da6e4a",
   "metadata": {},
   "outputs": [],
   "source": [
    "# Get unique coordinate for each stop\n",
    "stop_15.loc[:,'stop_id'] = stop_15.apply(lambda x:process_id(x['stop_id']),axis=1)\n",
    "\n",
    "stop_15 = stop_15.drop_duplicates(subset='stop_id', keep = 'last')"
   ]
  },
  {
   "cell_type": "code",
   "execution_count": null,
   "id": "0782f231-b235-4196-97f9-d498db44c2e0",
   "metadata": {},
   "outputs": [],
   "source": [
    "stop_15.head()"
   ]
  },
  {
   "cell_type": "code",
   "execution_count": 128,
   "id": "48e488dc-c004-4ab4-bdbe-bd7013c5d91c",
   "metadata": {},
   "outputs": [],
   "source": [
    "stop_15.iloc[:,:4].to_csv(\"../data/stop_info.csv\",index=False)"
   ]
  },
  {
   "cell_type": "code",
   "execution_count": 113,
   "id": "01d1c60d-d3fa-416b-a355-5f9811689f2e",
   "metadata": {},
   "outputs": [],
   "source": [
    "import json\n",
    "import math\n",
    "# Generate transfer station dictionary\n",
    "# Each item:\n",
    "# station id:[(station_id, waking time),...]\n",
    "stop_15 = stop_15.reset_index(drop=True)\n",
    "\n",
    "i = 0\n",
    "transfer_st = {s:[] for s in stop_15['stop_id']}\n",
    "\n",
    "for i in range(len(stop_15)-1):\n",
    "    \n",
    "    lat1 = stop_15.loc[i,'stop_lat']\n",
    "    lon1 = stop_15.loc[i,'stop_lon']\n",
    "    \n",
    "    for j in range(i+1, len(stop_15)):\n",
    "\n",
    "        lat2 = stop_15.loc[j,'stop_lat']\n",
    "        lon2 = stop_15.loc[j,'stop_lon']\n",
    "        \n",
    "        # calculate distance\n",
    "        dis = dist(lat1, lon1, lat2, lon2)\n",
    "        \n",
    "        # possible to transfer by walking\n",
    "        if dis<0.5:\n",
    "            transfer_st[stop_15.loc[i,'stop_id']].append((stop_15.loc[j,'stop_id'], math.ceil(dis*20)))\n",
    "            transfer_st[stop_15.loc[j,'stop_id']].append((stop_15.loc[i,'stop_id'], math.ceil(dis*20)))"
   ]
  },
  {
   "cell_type": "code",
   "execution_count": 114,
   "id": "0177275d-5ecf-4fe6-b9d0-fb951c7df86d",
   "metadata": {},
   "outputs": [],
   "source": [
    "with open(\"../data/transfer_station.json\", 'w') as f:\n",
    "    json.dump(transfer_st,f)"
   ]
  },
  {
   "cell_type": "markdown",
   "id": "83d5a6b6-0dd0-4e1f-9260-7c05960598df",
   "metadata": {},
   "source": [
    "## Filter stop with connection data"
   ]
  },
  {
   "cell_type": "code",
   "execution_count": null,
   "id": "48c24073-25fb-4514-9d5c-a281a24762bd",
   "metadata": {},
   "outputs": [],
   "source": [
    "!git lfs pull"
   ]
  },
  {
   "cell_type": "code",
   "execution_count": 25,
   "id": "059e3245-abc0-4320-977e-3068f62127ac",
   "metadata": {},
   "outputs": [],
   "source": [
    "import pandas as pd\n",
    "import glob\n",
    "import os\n",
    "\n",
    "path = r'../data/connections' # use your path\n",
    "all_files = glob.glob(os.path.join(path , \"*.csv\"))\n",
    "\n",
    "li = set([])\n",
    "for filename in all_files:\n",
    "    df = pd.read_csv(filename, index_col=None,header=None)\n",
    "    li = li.union(set(list(df[1].values)+list(df[3].values)))"
   ]
  },
  {
   "cell_type": "code",
   "execution_count": 73,
   "id": "5982422e-590f-4bbb-a7ab-99d78737449e",
   "metadata": {},
   "outputs": [],
   "source": [
    "import pandas as pd\n",
    "stop_info = pd.read_csv(\"../data/stop_info.csv\")\n",
    "\n",
    "# stop_id exists in connections\n",
    "stopid = pd.Series(list(li),name = 'stop_id')\n",
    "stop_id = set((stopid.apply(lambda x:int(process_id(x)))).drop_duplicates())\n",
    "\n",
    "# get stop_info only contains stops in appearring in connections\n",
    "stop_info_filtered = stop_info[stop_info['stop_id'].isin(stop_id)]"
   ]
  },
  {
   "cell_type": "code",
   "execution_count": 71,
   "id": "c201663e-e7af-44a8-8086-1d6c32921eb4",
   "metadata": {},
   "outputs": [],
   "source": [
    "stop_info_filtered.to_csv(\"../data/stop_info_filtered.csv\",index=False)"
   ]
  },
  {
   "cell_type": "markdown",
   "id": "eb02e581-9966-4660-b2c9-039db75b9a66",
   "metadata": {},
   "source": [
    "## Merge delay with connection"
   ]
  },
  {
   "cell_type": "code",
   "execution_count": 12,
   "id": "c0b8fa07-b27f-4a7c-876a-62c3d48eeccc",
   "metadata": {},
   "outputs": [],
   "source": [
    "import pandas as pd\n",
    "import glob\n",
    "import os"
   ]
  },
  {
   "cell_type": "code",
   "execution_count": 3,
   "id": "f3b6992e-761d-4e6b-a63c-8515bd240156",
   "metadata": {},
   "outputs": [],
   "source": [
    "stop_info = pd.read_csv(\"../data/stop_info_filtered.csv\")\n",
    "delay = pd.read_csv(\"../data/dist_all_delay_prediction.csv\")"
   ]
  },
  {
   "cell_type": "code",
   "execution_count": 4,
   "id": "b01c4899-bd16-45c5-8609-1807203e3229",
   "metadata": {},
   "outputs": [],
   "source": [
    "stop_info = stop_info[['stop_id','stop_name']]"
   ]
  },
  {
   "cell_type": "code",
   "execution_count": 5,
   "id": "4bee60b2-c0ac-4fa6-b23a-db2a6cb16420",
   "metadata": {},
   "outputs": [],
   "source": [
    "delay = delay.iloc[:,[1,2,3,6,7,8,9,10,11,12,13,14,15,16]]"
   ]
  },
  {
   "cell_type": "code",
   "execution_count": 6,
   "id": "2e575791-1d4b-4f61-991b-f924b29959be",
   "metadata": {},
   "outputs": [],
   "source": [
    "delay['delay'] = delay.iloc[:,3:].values.tolist()"
   ]
  },
  {
   "cell_type": "code",
   "execution_count": 8,
   "id": "4dd843fc-92ec-47a9-b933-8349fdb1e985",
   "metadata": {},
   "outputs": [],
   "source": [
    "delay = delay.iloc[:,[0,1,2,-1]]"
   ]
  },
  {
   "cell_type": "code",
   "execution_count": 24,
   "id": "a4ada763-73bb-4bc9-9387-92a4f5f6f62a",
   "metadata": {},
   "outputs": [],
   "source": [
    "delay = delay[delay['day']==3][['stop_name','hour','delay']].reset_index(drop=True)"
   ]
  },
  {
   "cell_type": "code",
   "execution_count": 37,
   "id": "cac84800-aeae-4e00-ad99-a22f2ce2ccef",
   "metadata": {},
   "outputs": [],
   "source": [
    "path = r'../data/connections' # use your path\n",
    "all_files = glob.glob(os.path.join(path , \"*.csv\"))\n",
    "\n",
    "\n",
    "for filename in all_files:\n",
    "    if filename == '../data/connections/part-00160-613e9e3a-5030-4ca1-9cd0-20a9c88748fe-c000.csv':\n",
    "        continue\n",
    "    temp = pd.read_csv(filename, index_col=None,header=None)\n",
    "    temp.columns = [\"departure_time\", \"departure_stop\", \"arrival_time\", \"arrival_stop\", \"trip_id\",\"route_id\"] \n",
    "    \n",
    "    # get stop name\n",
    "    temp['main_arrival'] = temp['arrival_stop'].str.split(':').str[0].astype(int)\n",
    "    temp = temp.merge(stop_info, left_on='main_arrival',right_on = 'stop_id', how = 'left')\\\n",
    "           [[\"departure_time\", \"departure_stop\", \"arrival_time\", \"arrival_stop\", \"trip_id\",\"route_id\",\"stop_name\"]]\n",
    "    \n",
    "    # get delay\n",
    "    temp['hour'] = temp['arrival_time'].str.split(\":\").str[0].astype(int)\n",
    "    temp = temp.merge(delay, left_on = ['hour','stop_name'], right_on = ['hour','stop_name'],how='left')\\\n",
    "          [[\"departure_time\", \"departure_stop\", \"arrival_time\", \"arrival_stop\", \"trip_id\",\"route_id\",\"delay\"]]\n",
    "    \n",
    "    # save to file\n",
    "    temp.to_csv(filename, index=False, header=False)\n"
   ]
  },
  {
   "cell_type": "code",
   "execution_count": 56,
   "id": "1b88b6c1-d485-4a32-b479-e2fbdebf9466",
   "metadata": {},
   "outputs": [],
   "source": [
    "temp = pd.read_csv('../data/connections/part-00160-613e9e3a-5030-4ca1-9cd0-20a9c88748fe-c000.csv',converters={'delay': pd.eval}).dropna()"
   ]
  },
  {
   "cell_type": "code",
   "execution_count": 55,
   "id": "1cf20f0f-9df6-472a-a6b5-496af093e184",
   "metadata": {},
   "outputs": [
    {
     "data": {
      "text/plain": [
       "11"
      ]
     },
     "execution_count": 55,
     "metadata": {},
     "output_type": "execute_result"
    }
   ],
   "source": [
    "import ast\n",
    "len(ast.literal_eval(temp['Unnamed: 6'][20]))"
   ]
  },
  {
   "cell_type": "code",
   "execution_count": 57,
   "id": "f040122c-ee09-4707-ae4d-d28c36d69863",
   "metadata": {},
   "outputs": [
    {
     "data": {
      "text/plain": [
       "'[0.0, 0.4132354931299031, 0.7349567438082295, 0.8802791804373937, 0.9459217531406592, 0.9755726965947596, 0.9889661150960812, 0.995015961686266, 0.9977486952121508, 0.9989830789956357, 0.9995406537867736]'"
      ]
     },
     "execution_count": 57,
     "metadata": {},
     "output_type": "execute_result"
    }
   ],
   "source": [
    "temp['Unnamed: 6'][20]"
   ]
  },
  {
   "cell_type": "code",
   "execution_count": null,
   "id": "dfb4d647-0153-461e-80d3-9b196e8f3044",
   "metadata": {},
   "outputs": [],
   "source": []
  }
 ],
 "metadata": {
  "kernelspec": {
   "display_name": "Python 3",
   "language": "python",
   "name": "python3"
  },
  "language_info": {
   "codemirror_mode": {
    "name": "ipython",
    "version": 3
   },
   "file_extension": ".py",
   "mimetype": "text/x-python",
   "name": "python",
   "nbconvert_exporter": "python",
   "pygments_lexer": "ipython3",
   "version": "3.9.7"
  }
 },
 "nbformat": 4,
 "nbformat_minor": 5
}
