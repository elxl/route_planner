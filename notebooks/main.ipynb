{
 "cells": [
  {
   "cell_type": "code",
   "execution_count": 1,
   "id": "d640a728-2cd3-478c-a9f4-88de730ceee6",
   "metadata": {},
   "outputs": [],
   "source": [
    "%load_ext sparkmagic.magics\n",
    "%load_ext autoreload\n",
    "%autoreload 2"
   ]
  },
  {
   "cell_type": "code",
   "execution_count": 2,
   "id": "fc4e1003-0d04-408f-a76e-de52cd2e88bc",
   "metadata": {},
   "outputs": [],
   "source": [
    "import pandas as pd\n",
    "import glob\n",
    "import os\n",
    "\n",
    "username = os.environ['RENKU_USERNAME']\n",
    "server = \"http://iccluster029.iccluster.epfl.ch:8998\"\n",
    "from IPython import get_ipython\n",
    "get_ipython().run_cell_magic('spark', line=\"config\", \n",
    "                    cell=\"\"\"{{ \"name\":\"{0}-demo2\",\n",
    "                               \"executorMemory\":\"4G\",\n",
    "                               \"executorCores\":4,\n",
    "                               \"numExecutors\":10 }}\"\"\".format(username))"
   ]
  },
  {
   "cell_type": "code",
   "execution_count": 3,
   "id": "c9729d6a-750a-4126-9f33-830b01960588",
   "metadata": {},
   "outputs": [
    {
     "name": "stdout",
     "output_type": "stream",
     "text": [
      "Starting Spark application\n"
     ]
    },
    {
     "data": {
      "text/html": [
       "<table>\n",
       "<tr><th>ID</th><th>YARN Application ID</th><th>Kind</th><th>State</th><th>Spark UI</th><th>Driver log</th><th>User</th><th>Current session?</th></tr><tr><td>8521</td><td>application_1652960972356_4291</td><td>pyspark</td><td>idle</td><td><a target=\"_blank\" href=\"http://iccluster029.iccluster.epfl.ch:8088/proxy/application_1652960972356_4291/\">Link</a></td><td><a target=\"_blank\" href=\"http://iccluster059.iccluster.epfl.ch:8042/node/containerlogs/container_e05_1652960972356_4291_01_000001/eric\">Link</a></td><td>None</td><td>✔</td></tr></table>"
      ],
      "text/plain": [
       "<IPython.core.display.HTML object>"
      ]
     },
     "metadata": {},
     "output_type": "display_data"
    },
    {
     "data": {
      "application/vnd.jupyter.widget-view+json": {
       "model_id": "",
       "version_major": 2,
       "version_minor": 0
      },
      "text/plain": [
       "FloatProgress(value=0.0, bar_style='info', description='Progress:', layout=Layout(height='25px', width='50%'),…"
      ]
     },
     "metadata": {},
     "output_type": "display_data"
    },
    {
     "name": "stdout",
     "output_type": "stream",
     "text": [
      "SparkSession available as 'spark'.\n"
     ]
    }
   ],
   "source": [
    "get_ipython().run_line_magic(\n",
    "    \"spark\", \"add -s {0}-demo2 -l python -u {1} -k\".format(username, server)\n",
    ")"
   ]
  },
  {
   "cell_type": "markdown",
   "id": "b63d1a2e-df45-4e2d-8643-a31a61192b94",
   "metadata": {},
   "source": [
    "# Load stop data"
   ]
  },
  {
   "cell_type": "code",
   "execution_count": 4,
   "id": "101570b0-dcc6-4b9a-add2-b1f7f6861291",
   "metadata": {},
   "outputs": [
    {
     "data": {
      "application/vnd.jupyter.widget-view+json": {
       "model_id": "",
       "version_major": 2,
       "version_minor": 0
      },
      "text/plain": [
       "FloatProgress(value=0.0, bar_style='info', description='Progress:', layout=Layout(height='25px', width='50%'),…"
      ]
     },
     "metadata": {},
     "output_type": "display_data"
    },
    {
     "name": "stdout",
     "output_type": "stream",
     "text": [
      "46689"
     ]
    },
    {
     "data": {
      "application/vnd.jupyter.widget-view+json": {
       "model_id": "",
       "version_major": 2,
       "version_minor": 0
      },
      "text/plain": [
       "FloatProgress(value=0.0, bar_style='info', description='Progress:', layout=Layout(height='25px', width='50%'),…"
      ]
     },
     "metadata": {},
     "output_type": "display_data"
    }
   ],
   "source": [
    "%%spark -o df_stops -n 50000\n",
    "df_stops = spark.read.orc('hdfs:///data/sbb/orc/allstops/000000_0')\n",
    "df_stops.count()"
   ]
  },
  {
   "cell_type": "code",
   "execution_count": 5,
   "id": "7bc8c195-7d0c-4c04-97e3-9d205c288c8f",
   "metadata": {},
   "outputs": [],
   "source": [
    "df_stops['stop_id'] = df_stops['stop_id'].apply(lambda x: x.split(':')[0])\n",
    "df_stops = df_stops.drop_duplicates(subset=['stop_id'])"
   ]
  },
  {
   "cell_type": "code",
   "execution_count": 6,
   "id": "50c8ceb6-e96d-4d11-acd2-aadd4394b353",
   "metadata": {},
   "outputs": [],
   "source": [
    "df_stops = df_stops.set_index('stop_id')"
   ]
  },
  {
   "cell_type": "code",
   "execution_count": 7,
   "id": "c54b426a-968c-41d2-b9a0-b66451462199",
   "metadata": {},
   "outputs": [
    {
     "name": "stdout",
     "output_type": "stream",
     "text": [
      "Zürich Flughafen\n",
      "(8.56239992961121, 47.4503866318972)\n"
     ]
    }
   ],
   "source": [
    "def stop_id_to_name(stop_id, show_city=False):\n",
    "    '''\n",
    "    Convert stop_id to stop_name\n",
    "    '''\n",
    "    return df_stops.loc[stop_id]['stop_name']\n",
    "\n",
    "def stop_id_to_latlon(stop_id):\n",
    "    '''\n",
    "    Convert stop_id to stop coordinates\n",
    "    '''\n",
    "    return (df_stops.loc[stop_id]['stop_lon'], df_stops.loc[stop_id]['stop_lat'])\n",
    "    \n",
    "print(stop_id_to_name('8503016'))\n",
    "print(stop_id_to_latlon('8503016'))\n"
   ]
  },
  {
   "cell_type": "markdown",
   "id": "287a0bd2-9ccc-4cda-924b-b3f352025606",
   "metadata": {},
   "source": [
    "# Load Route data"
   ]
  },
  {
   "cell_type": "code",
   "execution_count": 8,
   "id": "8b9d2ffc-ea18-4d3b-afb4-83393e9321db",
   "metadata": {},
   "outputs": [
    {
     "data": {
      "application/vnd.jupyter.widget-view+json": {
       "model_id": "",
       "version_major": 2,
       "version_minor": 0
      },
      "text/plain": [
       "FloatProgress(value=0.0, bar_style='info', description='Progress:', layout=Layout(height='25px', width='50%'),…"
      ]
     },
     "metadata": {},
     "output_type": "display_data"
    },
    {
     "name": "stdout",
     "output_type": "stream",
     "text": [
      "5026"
     ]
    },
    {
     "data": {
      "application/vnd.jupyter.widget-view+json": {
       "model_id": "",
       "version_major": 2,
       "version_minor": 0
      },
      "text/plain": [
       "FloatProgress(value=0.0, bar_style='info', description='Progress:', layout=Layout(height='25px', width='50%'),…"
      ]
     },
     "metadata": {},
     "output_type": "display_data"
    }
   ],
   "source": [
    "%%spark -o df_route -n 50000\n",
    "df_route = spark.read.csv('hdfs:///data/sbb/csv/routes/2019/05/15/routes.txt', header=True)\n",
    "df_route.count()"
   ]
  },
  {
   "cell_type": "code",
   "execution_count": 9,
   "id": "c66ecfea-f4c5-44a1-a11d-547ab4e543c4",
   "metadata": {},
   "outputs": [],
   "source": [
    "df_route = df_route.set_index('route_id')"
   ]
  },
  {
   "cell_type": "code",
   "execution_count": 10,
   "id": "15512752-e2f2-4a84-9338-c9e2f3b31f9b",
   "metadata": {},
   "outputs": [
    {
     "name": "stdout",
     "output_type": "stream",
     "text": [
      "Bus 040\n",
      "Tram 9\n"
     ]
    }
   ],
   "source": [
    "def route_id_to_name(route_id):\n",
    "    try:\n",
    "        if not route_id:\n",
    "            return \"walk\"\n",
    "        else:\n",
    "            route_name = df_route.loc[route_id]['route_short_name']\n",
    "            transport_type = df_route.loc[route_id]['route_desc']\n",
    "            return f'{transport_type} {route_name}'\n",
    "    except KeyError:\n",
    "        print(f'WARNING: route id {route_id} not found')\n",
    "        return None\n",
    "\n",
    "print(route_id_to_name('11-40-j19-1'))\n",
    "print(route_id_to_name('26-9-B-j19-1'))"
   ]
  },
  {
   "cell_type": "markdown",
   "id": "a59a3f35-3c88-491b-a6b3-977867f0b208",
   "metadata": {},
   "source": [
    "# CSA"
   ]
  },
  {
   "cell_type": "code",
   "execution_count": 18,
   "id": "dc560502-63e3-43f3-b3fd-d5c61a2be282",
   "metadata": {},
   "outputs": [],
   "source": [
    "import csa\n",
    "import ast"
   ]
  },
  {
   "cell_type": "code",
   "execution_count": 12,
   "id": "a65eda55-6e4b-423d-a8a6-bc33117bbac5",
   "metadata": {},
   "outputs": [],
   "source": [
    "import json\n",
    "\n",
    "with open(\"../data/transfer_station.json\") as f:\n",
    "    nearby_station_dic = json.load(f)"
   ]
  },
  {
   "cell_type": "code",
   "execution_count": 13,
   "id": "67719bea-ed9a-4952-a78f-f99c5c8851a7",
   "metadata": {},
   "outputs": [],
   "source": [
    "cached_connections = None\n",
    "cached_deadline = None\n",
    "\n",
    "def query_csa(origin_id, destination_id, deadline, confidence):\n",
    "    \"\"\"\n",
    "    Returns a list of Itineraries.\n",
    "    - origin_id: id of origin station.\n",
    "    - destination_id: id of destination station.\n",
    "    - deadline: latest acceptable arrival time.\n",
    "    - confidence: (In percentage) only itineraries with confidence larger than this threshold will be returned.\n",
    "    \"\"\"\n",
    "    global cached_connections\n",
    "    global cached_deadline\n",
    "    \n",
    "    # generate connections\n",
    "    if cached_deadline == deadline:\n",
    "        connections = cached_connections\n",
    "        print('Using cached connections')\n",
    "    else:    # get data\n",
    "        path = r'../data/connections' # use your path\n",
    "        all_files = glob.glob(os.path.join(path , \"*.csv\"))\n",
    "\n",
    "        li = []\n",
    "        hour, minute, second = deadline.split(\":\")\n",
    "        for filename in all_files:\n",
    "            df = pd.read_csv(filename, index_col=None,header=None)\n",
    "\n",
    "            li.append(df[(df[0]>=\":\".join([str(int(hour)-2).zfill(2), minute, second])) & (df[2]<=deadline)])\n",
    "\n",
    "        df_selected = pd.concat(li, axis=0, ignore_index=True)\n",
    "        df_selected.columns = [\"departure_time\", \"departure_stop\", \"arrival_time\", \"arrival_stop\", \"trip_id\",\"route_id\",\"delay\"]    \n",
    "        origin_id, destination_id = str(origin_id), str(destination_id)\n",
    "        df_selected = df_selected.sort_values(by=['departure_time'],ascending=False)\n",
    "\n",
    "        \n",
    "        connections = []\n",
    "\n",
    "        print('Creating connections...', end='')\n",
    "        for idx, row in df_selected.iterrows():\n",
    "            connections.append(\n",
    "                csa.Connection(\n",
    "                    start_station=row['departure_stop'].split(':')[0],\n",
    "                    start_time=row['departure_time'],\n",
    "                    end_station=row['arrival_stop'].split(':')[0],\n",
    "                    end_time=row['arrival_time'],\n",
    "                    route_id=row['route_id'],\n",
    "                    trip_id=row['trip_id'],\n",
    "                    delay=ast.literal_eval(row['delay']) if isinstance(row['delay'],str) else [1]*11\n",
    "                )\n",
    "            )\n",
    "        print('done')\n",
    "        cached_connections = connections\n",
    "        cached_deadline = deadline\n",
    "    \n",
    "    stations = set([c.start_station for c in connections] + [c.end_station for c in connections])\n",
    "    \n",
    "    # No routes available\n",
    "    if origin_id not in stations:\n",
    "        return None\n",
    "    \n",
    "    deadline = csa.hhmm_to_int(deadline)\n",
    "    print('Running CSA...', end='')\n",
    "    results = csa.csa(stations, connections, origin_id, destination_id, deadline, confidence/100, nearby_station_dic)\n",
    "    print('done')\n",
    "    itineraries = [csa.build_itinerary_from_profile_entry(r, origin_id, destination_id, nearby_station_dic) for r in results]\n",
    "\n",
    "    itineraries.sort(key=lambda x: x.legs[0].start_time, reverse=True)\n",
    "    \n",
    "    return list(filter(lambda x: x.confidence >= confidence/100, itineraries))"
   ]
  },
  {
   "cell_type": "markdown",
   "id": "7868a94c-6289-4285-893d-c039fed5b8c2",
   "metadata": {},
   "source": [
    "Some station ids to try out\n",
    "\n",
    "- 8591123 Zürich, ETH/Universitätsspital\n",
    "- 8503016 Zürich Flughafen\n",
    "- 8503006 Zürich Oerlikon\n",
    "- 8591105 Zürich, Bürkliplatz\n",
    "- 8503000 Zürich HB\n",
    "- 8587348 Zürich, Bahnhofplatz/HB\n",
    "- 8591283 Zürich, Museum Rietberg"
   ]
  },
  {
   "cell_type": "markdown",
   "id": "54805c25-abf7-4142-be2c-52b905488d65",
   "metadata": {},
   "source": [
    "## Visualization"
   ]
  },
  {
   "cell_type": "code",
   "execution_count": 14,
   "id": "f9ff3178-0e60-43ef-9917-b23a7f212fe1",
   "metadata": {},
   "outputs": [],
   "source": [
    "import pandas as pd\n",
    "stop_info = pd.read_csv(\"../data/stop_info_filtered.csv\")\n",
    "stop_info['stop_id'] = stop_info['stop_id'].astype(str)\n",
    "stop_info = stop_info.sort_values(\"stop_name\")"
   ]
  },
  {
   "cell_type": "code",
   "execution_count": 15,
   "id": "7eceb894-7906-48b5-8c51-4ee1495d5a95",
   "metadata": {},
   "outputs": [],
   "source": [
    "from datetime import datetime, timedelta\n",
    "\n",
    "# Create starting and end datetime object from string\n",
    "start = datetime.strptime(\"08:00:00\", \"%H:%M:%S\")\n",
    "end = datetime.strptime(\"22:05:00\", \"%H:%M:%S\")\n",
    "\n",
    "# min_gap\n",
    "min_gap = 5\n",
    "\n",
    "# compute datetime interval\n",
    "arr = [(start + timedelta(hours=min_gap*i/60)).strftime(\"%H:%M:%S\")\n",
    "       for i in range(int((end-start).total_seconds() / 60.0 / min_gap))]"
   ]
  },
  {
   "cell_type": "code",
   "execution_count": 16,
   "id": "4aa2bb91-13af-4f52-9741-64fa99d3cb11",
   "metadata": {},
   "outputs": [],
   "source": [
    "import matplotlib.pyplot as plt\n",
    "%matplotlib inline"
   ]
  },
  {
   "cell_type": "code",
   "execution_count": 17,
   "id": "946f522f-b5c6-4426-9cbc-8b4a1de17179",
   "metadata": {},
   "outputs": [
    {
     "data": {
      "application/vnd.jupyter.widget-view+json": {
       "model_id": "9fb96caf44c941cd8e74ab8a579ca20a",
       "version_major": 2,
       "version_minor": 0
      },
      "text/plain": [
       "interactive(children=(Dropdown(description='Departure', index=672, options=(('Adlikon b. R., Dorf', '8576253')…"
      ]
     },
     "metadata": {},
     "output_type": "display_data"
    }
   ],
   "source": [
    "from __future__ import print_function\n",
    "from ipywidgets import interact, interactive, fixed, interact_manual\n",
    "import ipywidgets as widgets\n",
    "from IPython.display import display\n",
    "\n",
    "import pandas as pd\n",
    "import plotly.express as px\n",
    "\n",
    "def plot_on_map(route):\n",
    "    \n",
    "    # print itinerary\n",
    "    for leg in route.legs:\n",
    "        print('\\t{} {:30} => {} {:30} {:10}'\\\n",
    "              .format(csa.to_hhmm(leg.start_time),\\\n",
    "                      stop_id_to_name(leg.start_station),\\\n",
    "                      csa.to_hhmm(leg.end_time),\\\n",
    "                      stop_id_to_name(leg.end_station),\\\n",
    "                      route_id_to_name(leg.route_id) if leg.route_id else 'Walk'\n",
    "                     ))\n",
    "    print('')\n",
    "    \n",
    "    waypoints_df = route.waypoints_df(stop_id_to_name, stop_id_to_latlon, route_id_to_name)\n",
    "    # Draw route on map\n",
    "    #color_discrete_map = {False: 'rgb(255,0,0)',True: 'rgb(0,0,255)'}\n",
    "    fig = px.line_mapbox(waypoints_df, lat=\"lat\", lon=\"lon\", hover_data = {'station':True,'time':True,'route':True,'lat':False,'lon':False,'is_walking':False},\n",
    "                         zoom=10, height=500, width=500, color_discrete_sequence=px.colors.qualitative.Set1)\n",
    "\n",
    "    fig.update_layout(mapbox_style=\"open-street-map\", mapbox_zoom=10, showlegend=False, margin={\"r\":0,\"t\":0,\"l\":0,\"b\":0})\n",
    "    fig.update_traces(line=dict(width=4))\n",
    "\n",
    "    fig.show()\n",
    "\n",
    "def query(departure, arrival, t, confidence):\n",
    "    \n",
    "    if departure == arrival:\n",
    "        print('Walk')\n",
    "        return\n",
    "        \n",
    "    print(f\"Query from {stop_info[stop_info['stop_id']==departure]['stop_name'].values[0]} to {stop_info[stop_info['stop_id']==arrival]['stop_name'].values[0]} before {t} with confidence {confidence}%\")\n",
    "    results = query_csa(departure, arrival, t, confidence)\n",
    "    \n",
    "\n",
    "    if not results:\n",
    "        print(\"Arrival too early\")\n",
    "    elif len(results)==0:\n",
    "        print(\"No route available\")\n",
    "    else:\n",
    "        route = widgets.Dropdown(\n",
    "            options=[(itinerary.summary(), itinerary) for itinerary in results],\n",
    "            value=results[0],\n",
    "            description='Route',\n",
    "            disabled=False,\n",
    "            width='auto'\n",
    "        )\n",
    "\n",
    "        interact(plot_on_map, route=route)\n",
    "\n",
    "# Query choice\n",
    "                          \n",
    "departure = widgets.Dropdown(\n",
    "    options=list(zip(stop_info.stop_name,stop_info.stop_id)),\n",
    "    value=stop_info.stop_id[0],\n",
    "    description='Departure',\n",
    "    disabled=False,\n",
    ")\n",
    "\n",
    "arrival = widgets.Dropdown(\n",
    "    options=list(zip(stop_info.stop_name,stop_info.stop_id)),\n",
    "    value=stop_info.stop_id[0],\n",
    "    description='Arrival',\n",
    ")\n",
    "\n",
    "arr_time = widgets.Dropdown(\n",
    "    options=arr,\n",
    "    value='08:00:00',\n",
    "    description='Arrival Time',\n",
    ")\n",
    "\n",
    "confidence = widgets.IntSlider(\n",
    "    value=80,\n",
    "    min=0,\n",
    "    max=100,\n",
    "    step=1,\n",
    "    description='Confidence',\n",
    "    disabled=False,\n",
    "    continuous_update=False,\n",
    "    orientation='horizontal',\n",
    "    readout=True,\n",
    "    readout_format='d'\n",
    ")\n",
    "\n",
    "my_interact_manual = interact_manual.options(manual_name=\"search\")\n",
    "_ = my_interact_manual(query,departure = departure, arrival = arrival, t = arr_time, confidence = confidence)"
   ]
  }
 ],
 "metadata": {
  "kernelspec": {
   "display_name": "Python 3",
   "language": "python",
   "name": "python3"
  },
  "language_info": {
   "codemirror_mode": {
    "name": "ipython",
    "version": 3
   },
   "file_extension": ".py",
   "mimetype": "text/x-python",
   "name": "python",
   "nbconvert_exporter": "python",
   "pygments_lexer": "ipython3",
   "version": "3.9.7"
  }
 },
 "nbformat": 4,
 "nbformat_minor": 5
}
